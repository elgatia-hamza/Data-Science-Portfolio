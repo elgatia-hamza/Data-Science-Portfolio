{
 "cells": [
  {
   "cell_type": "markdown",
   "id": "broken-product",
   "metadata": {},
   "source": [
    "# Artificial Neural Network"
   ]
  },
  {
   "cell_type": "markdown",
   "id": "fundamental-duncan",
   "metadata": {},
   "source": [
    "<img src='Stochastic_Gradient_Descent.png' />"
   ]
  },
  {
   "cell_type": "code",
   "execution_count": 30,
   "id": "attempted-myrtle",
   "metadata": {},
   "outputs": [],
   "source": [
    "import numpy as np\n",
    "import pandas as pd\n",
    "import tensorflow as tf"
   ]
  },
  {
   "cell_type": "markdown",
   "id": "female-bloom",
   "metadata": {},
   "source": [
    "# Part I : Data Preprocessing"
   ]
  },
  {
   "cell_type": "markdown",
   "id": "individual-character",
   "metadata": {},
   "source": [
    "## Importing the  dataset"
   ]
  },
  {
   "cell_type": "code",
   "execution_count": 31,
   "id": "upset-college",
   "metadata": {},
   "outputs": [
    {
     "data": {
      "text/plain": [
       "['.ipynb_checkpoints',\n",
       " 'artificial_neural_network.ipynb',\n",
       " 'artificial_neural_network.py',\n",
       " 'artificiel_neural_network_hamza.ipynb',\n",
       " 'Churn_Modelling.csv',\n",
       " 'Stochastic_Gradient_Descent.png']"
      ]
     },
     "execution_count": 31,
     "metadata": {},
     "output_type": "execute_result"
    }
   ],
   "source": [
    "import os\n",
    "os.listdir()"
   ]
  },
  {
   "cell_type": "code",
   "execution_count": 32,
   "id": "representative-playing",
   "metadata": {},
   "outputs": [
    {
     "data": {
      "text/html": [
       "<div>\n",
       "<style scoped>\n",
       "    .dataframe tbody tr th:only-of-type {\n",
       "        vertical-align: middle;\n",
       "    }\n",
       "\n",
       "    .dataframe tbody tr th {\n",
       "        vertical-align: top;\n",
       "    }\n",
       "\n",
       "    .dataframe thead th {\n",
       "        text-align: right;\n",
       "    }\n",
       "</style>\n",
       "<table border=\"1\" class=\"dataframe\">\n",
       "  <thead>\n",
       "    <tr style=\"text-align: right;\">\n",
       "      <th></th>\n",
       "      <th>RowNumber</th>\n",
       "      <th>CustomerId</th>\n",
       "      <th>Surname</th>\n",
       "      <th>CreditScore</th>\n",
       "      <th>Geography</th>\n",
       "      <th>Gender</th>\n",
       "      <th>Age</th>\n",
       "      <th>Tenure</th>\n",
       "      <th>Balance</th>\n",
       "      <th>NumOfProducts</th>\n",
       "      <th>HasCrCard</th>\n",
       "      <th>IsActiveMember</th>\n",
       "      <th>EstimatedSalary</th>\n",
       "      <th>Exited</th>\n",
       "    </tr>\n",
       "  </thead>\n",
       "  <tbody>\n",
       "    <tr>\n",
       "      <th>0</th>\n",
       "      <td>1</td>\n",
       "      <td>15634602</td>\n",
       "      <td>Hargrave</td>\n",
       "      <td>619</td>\n",
       "      <td>France</td>\n",
       "      <td>Female</td>\n",
       "      <td>42</td>\n",
       "      <td>2</td>\n",
       "      <td>0.00</td>\n",
       "      <td>1</td>\n",
       "      <td>1</td>\n",
       "      <td>1</td>\n",
       "      <td>101348.88</td>\n",
       "      <td>1</td>\n",
       "    </tr>\n",
       "    <tr>\n",
       "      <th>1</th>\n",
       "      <td>2</td>\n",
       "      <td>15647311</td>\n",
       "      <td>Hill</td>\n",
       "      <td>608</td>\n",
       "      <td>Spain</td>\n",
       "      <td>Female</td>\n",
       "      <td>41</td>\n",
       "      <td>1</td>\n",
       "      <td>83807.86</td>\n",
       "      <td>1</td>\n",
       "      <td>0</td>\n",
       "      <td>1</td>\n",
       "      <td>112542.58</td>\n",
       "      <td>0</td>\n",
       "    </tr>\n",
       "    <tr>\n",
       "      <th>2</th>\n",
       "      <td>3</td>\n",
       "      <td>15619304</td>\n",
       "      <td>Onio</td>\n",
       "      <td>502</td>\n",
       "      <td>France</td>\n",
       "      <td>Female</td>\n",
       "      <td>42</td>\n",
       "      <td>8</td>\n",
       "      <td>159660.80</td>\n",
       "      <td>3</td>\n",
       "      <td>1</td>\n",
       "      <td>0</td>\n",
       "      <td>113931.57</td>\n",
       "      <td>1</td>\n",
       "    </tr>\n",
       "    <tr>\n",
       "      <th>3</th>\n",
       "      <td>4</td>\n",
       "      <td>15701354</td>\n",
       "      <td>Boni</td>\n",
       "      <td>699</td>\n",
       "      <td>France</td>\n",
       "      <td>Female</td>\n",
       "      <td>39</td>\n",
       "      <td>1</td>\n",
       "      <td>0.00</td>\n",
       "      <td>2</td>\n",
       "      <td>0</td>\n",
       "      <td>0</td>\n",
       "      <td>93826.63</td>\n",
       "      <td>0</td>\n",
       "    </tr>\n",
       "    <tr>\n",
       "      <th>4</th>\n",
       "      <td>5</td>\n",
       "      <td>15737888</td>\n",
       "      <td>Mitchell</td>\n",
       "      <td>850</td>\n",
       "      <td>Spain</td>\n",
       "      <td>Female</td>\n",
       "      <td>43</td>\n",
       "      <td>2</td>\n",
       "      <td>125510.82</td>\n",
       "      <td>1</td>\n",
       "      <td>1</td>\n",
       "      <td>1</td>\n",
       "      <td>79084.10</td>\n",
       "      <td>0</td>\n",
       "    </tr>\n",
       "    <tr>\n",
       "      <th>...</th>\n",
       "      <td>...</td>\n",
       "      <td>...</td>\n",
       "      <td>...</td>\n",
       "      <td>...</td>\n",
       "      <td>...</td>\n",
       "      <td>...</td>\n",
       "      <td>...</td>\n",
       "      <td>...</td>\n",
       "      <td>...</td>\n",
       "      <td>...</td>\n",
       "      <td>...</td>\n",
       "      <td>...</td>\n",
       "      <td>...</td>\n",
       "      <td>...</td>\n",
       "    </tr>\n",
       "    <tr>\n",
       "      <th>9995</th>\n",
       "      <td>9996</td>\n",
       "      <td>15606229</td>\n",
       "      <td>Obijiaku</td>\n",
       "      <td>771</td>\n",
       "      <td>France</td>\n",
       "      <td>Male</td>\n",
       "      <td>39</td>\n",
       "      <td>5</td>\n",
       "      <td>0.00</td>\n",
       "      <td>2</td>\n",
       "      <td>1</td>\n",
       "      <td>0</td>\n",
       "      <td>96270.64</td>\n",
       "      <td>0</td>\n",
       "    </tr>\n",
       "    <tr>\n",
       "      <th>9996</th>\n",
       "      <td>9997</td>\n",
       "      <td>15569892</td>\n",
       "      <td>Johnstone</td>\n",
       "      <td>516</td>\n",
       "      <td>France</td>\n",
       "      <td>Male</td>\n",
       "      <td>35</td>\n",
       "      <td>10</td>\n",
       "      <td>57369.61</td>\n",
       "      <td>1</td>\n",
       "      <td>1</td>\n",
       "      <td>1</td>\n",
       "      <td>101699.77</td>\n",
       "      <td>0</td>\n",
       "    </tr>\n",
       "    <tr>\n",
       "      <th>9997</th>\n",
       "      <td>9998</td>\n",
       "      <td>15584532</td>\n",
       "      <td>Liu</td>\n",
       "      <td>709</td>\n",
       "      <td>France</td>\n",
       "      <td>Female</td>\n",
       "      <td>36</td>\n",
       "      <td>7</td>\n",
       "      <td>0.00</td>\n",
       "      <td>1</td>\n",
       "      <td>0</td>\n",
       "      <td>1</td>\n",
       "      <td>42085.58</td>\n",
       "      <td>1</td>\n",
       "    </tr>\n",
       "    <tr>\n",
       "      <th>9998</th>\n",
       "      <td>9999</td>\n",
       "      <td>15682355</td>\n",
       "      <td>Sabbatini</td>\n",
       "      <td>772</td>\n",
       "      <td>Germany</td>\n",
       "      <td>Male</td>\n",
       "      <td>42</td>\n",
       "      <td>3</td>\n",
       "      <td>75075.31</td>\n",
       "      <td>2</td>\n",
       "      <td>1</td>\n",
       "      <td>0</td>\n",
       "      <td>92888.52</td>\n",
       "      <td>1</td>\n",
       "    </tr>\n",
       "    <tr>\n",
       "      <th>9999</th>\n",
       "      <td>10000</td>\n",
       "      <td>15628319</td>\n",
       "      <td>Walker</td>\n",
       "      <td>792</td>\n",
       "      <td>France</td>\n",
       "      <td>Female</td>\n",
       "      <td>28</td>\n",
       "      <td>4</td>\n",
       "      <td>130142.79</td>\n",
       "      <td>1</td>\n",
       "      <td>1</td>\n",
       "      <td>0</td>\n",
       "      <td>38190.78</td>\n",
       "      <td>0</td>\n",
       "    </tr>\n",
       "  </tbody>\n",
       "</table>\n",
       "<p>10000 rows × 14 columns</p>\n",
       "</div>"
      ],
      "text/plain": [
       "      RowNumber  CustomerId    Surname  CreditScore Geography  Gender  Age  \\\n",
       "0             1    15634602   Hargrave          619    France  Female   42   \n",
       "1             2    15647311       Hill          608     Spain  Female   41   \n",
       "2             3    15619304       Onio          502    France  Female   42   \n",
       "3             4    15701354       Boni          699    France  Female   39   \n",
       "4             5    15737888   Mitchell          850     Spain  Female   43   \n",
       "...         ...         ...        ...          ...       ...     ...  ...   \n",
       "9995       9996    15606229   Obijiaku          771    France    Male   39   \n",
       "9996       9997    15569892  Johnstone          516    France    Male   35   \n",
       "9997       9998    15584532        Liu          709    France  Female   36   \n",
       "9998       9999    15682355  Sabbatini          772   Germany    Male   42   \n",
       "9999      10000    15628319     Walker          792    France  Female   28   \n",
       "\n",
       "      Tenure    Balance  NumOfProducts  HasCrCard  IsActiveMember  \\\n",
       "0          2       0.00              1          1               1   \n",
       "1          1   83807.86              1          0               1   \n",
       "2          8  159660.80              3          1               0   \n",
       "3          1       0.00              2          0               0   \n",
       "4          2  125510.82              1          1               1   \n",
       "...      ...        ...            ...        ...             ...   \n",
       "9995       5       0.00              2          1               0   \n",
       "9996      10   57369.61              1          1               1   \n",
       "9997       7       0.00              1          0               1   \n",
       "9998       3   75075.31              2          1               0   \n",
       "9999       4  130142.79              1          1               0   \n",
       "\n",
       "      EstimatedSalary  Exited  \n",
       "0           101348.88       1  \n",
       "1           112542.58       0  \n",
       "2           113931.57       1  \n",
       "3            93826.63       0  \n",
       "4            79084.10       0  \n",
       "...               ...     ...  \n",
       "9995         96270.64       0  \n",
       "9996        101699.77       0  \n",
       "9997         42085.58       1  \n",
       "9998         92888.52       1  \n",
       "9999         38190.78       0  \n",
       "\n",
       "[10000 rows x 14 columns]"
      ]
     },
     "execution_count": 32,
     "metadata": {},
     "output_type": "execute_result"
    }
   ],
   "source": [
    "dataset = pd.read_csv('Churn_Modelling.csv')\n",
    "dataset"
   ]
  },
  {
   "cell_type": "code",
   "execution_count": 33,
   "id": "confidential-hindu",
   "metadata": {},
   "outputs": [],
   "source": [
    "X = dataset.iloc[:, 3:13].values\n",
    "y = dataset.iloc[:, -1].values"
   ]
  },
  {
   "cell_type": "code",
   "execution_count": 34,
   "id": "acting-given",
   "metadata": {},
   "outputs": [
    {
     "name": "stdout",
     "output_type": "stream",
     "text": [
      "[[619 'France' 'Female' ... 1 1 101348.88]\n",
      " [608 'Spain' 'Female' ... 0 1 112542.58]\n",
      " [502 'France' 'Female' ... 1 0 113931.57]\n",
      " ...\n",
      " [709 'France' 'Female' ... 0 1 42085.58]\n",
      " [772 'Germany' 'Male' ... 1 0 92888.52]\n",
      " [792 'France' 'Female' ... 1 0 38190.78]]\n"
     ]
    }
   ],
   "source": [
    "print(X)"
   ]
  },
  {
   "cell_type": "code",
   "execution_count": 35,
   "id": "aware-image",
   "metadata": {},
   "outputs": [
    {
     "name": "stdout",
     "output_type": "stream",
     "text": [
      "[1 0 1 ... 1 1 0]\n"
     ]
    }
   ],
   "source": [
    "print(y)"
   ]
  },
  {
   "cell_type": "markdown",
   "id": "parallel-integral",
   "metadata": {},
   "source": [
    "### Encoding categorical data"
   ]
  },
  {
   "cell_type": "markdown",
   "id": "aerial-crowd",
   "metadata": {},
   "source": [
    "Label Encodding the \"Gender\" column"
   ]
  },
  {
   "cell_type": "code",
   "execution_count": 36,
   "id": "sacred-stage",
   "metadata": {},
   "outputs": [],
   "source": [
    "from sklearn.preprocessing import LabelEncoder"
   ]
  },
  {
   "cell_type": "code",
   "execution_count": 37,
   "id": "blank-province",
   "metadata": {},
   "outputs": [],
   "source": [
    "le = LabelEncoder()\n",
    "X[:,2] = le.fit_transform(X[:,2])"
   ]
  },
  {
   "cell_type": "code",
   "execution_count": 38,
   "id": "automated-construction",
   "metadata": {},
   "outputs": [
    {
     "name": "stdout",
     "output_type": "stream",
     "text": [
      "[[619 'France' 0 ... 1 1 101348.88]\n",
      " [608 'Spain' 0 ... 0 1 112542.58]\n",
      " [502 'France' 0 ... 1 0 113931.57]\n",
      " ...\n",
      " [709 'France' 0 ... 0 1 42085.58]\n",
      " [772 'Germany' 1 ... 1 0 92888.52]\n",
      " [792 'France' 0 ... 1 0 38190.78]]\n"
     ]
    }
   ],
   "source": [
    "print(X)"
   ]
  },
  {
   "cell_type": "code",
   "execution_count": 39,
   "id": "ceramic-pitch",
   "metadata": {},
   "outputs": [],
   "source": [
    "from sklearn.compose import ColumnTransformer\n",
    "from sklearn.preprocessing import OneHotEncoder\n",
    "ct = ColumnTransformer(transformers=[('encoder', OneHotEncoder(), [1])], remainder='passthrough')\n",
    "X = np.array(ct.fit_transform(X))"
   ]
  },
  {
   "cell_type": "code",
   "execution_count": 40,
   "id": "institutional-bullet",
   "metadata": {},
   "outputs": [
    {
     "name": "stdout",
     "output_type": "stream",
     "text": [
      "[[1.0 0.0 0.0 ... 1 1 101348.88]\n",
      " [0.0 0.0 1.0 ... 0 1 112542.58]\n",
      " [1.0 0.0 0.0 ... 1 0 113931.57]\n",
      " ...\n",
      " [1.0 0.0 0.0 ... 0 1 42085.58]\n",
      " [0.0 1.0 0.0 ... 1 0 92888.52]\n",
      " [1.0 0.0 0.0 ... 1 0 38190.78]]\n"
     ]
    }
   ],
   "source": [
    "print(X)"
   ]
  },
  {
   "cell_type": "markdown",
   "id": "equivalent-gross",
   "metadata": {},
   "source": [
    "### Feature Scaling"
   ]
  },
  {
   "cell_type": "code",
   "execution_count": 41,
   "id": "happy-painting",
   "metadata": {},
   "outputs": [
    {
     "name": "stdout",
     "output_type": "stream",
     "text": [
      "[[ 0.99720391 -0.57873591 -0.57380915 ...  0.64609167  0.97024255\n",
      "   0.02188649]\n",
      " [-1.00280393 -0.57873591  1.74273971 ... -1.54776799  0.97024255\n",
      "   0.21653375]\n",
      " [ 0.99720391 -0.57873591 -0.57380915 ...  0.64609167 -1.03067011\n",
      "   0.2406869 ]\n",
      " ...\n",
      " [ 0.99720391 -0.57873591 -0.57380915 ... -1.54776799  0.97024255\n",
      "  -1.00864308]\n",
      " [-1.00280393  1.72790383 -0.57380915 ...  0.64609167 -1.03067011\n",
      "  -0.12523071]\n",
      " [ 0.99720391 -0.57873591 -0.57380915 ...  0.64609167 -1.03067011\n",
      "  -1.07636976]]\n"
     ]
    }
   ],
   "source": [
    "from sklearn.preprocessing import StandardScaler\n",
    "sc = StandardScaler()\n",
    "X = sc.fit_transform(X)\n",
    "print(X)"
   ]
  },
  {
   "cell_type": "code",
   "execution_count": 42,
   "id": "inner-increase",
   "metadata": {},
   "outputs": [
    {
     "name": "stdout",
     "output_type": "stream",
     "text": [
      "(10000, 12)\n"
     ]
    }
   ],
   "source": [
    "print(X.shape)"
   ]
  },
  {
   "cell_type": "markdown",
   "id": "surface-journalist",
   "metadata": {},
   "source": [
    "### Avoiding the dummy variable trap"
   ]
  },
  {
   "cell_type": "code",
   "execution_count": 43,
   "id": "ready-bailey",
   "metadata": {},
   "outputs": [],
   "source": [
    "X = X[:,1:]"
   ]
  },
  {
   "cell_type": "markdown",
   "id": "radio-gross",
   "metadata": {},
   "source": [
    "### Splitting the dataset into the Training set and Test set"
   ]
  },
  {
   "cell_type": "code",
   "execution_count": 44,
   "id": "mediterranean-wings",
   "metadata": {},
   "outputs": [],
   "source": [
    "from sklearn.model_selection import train_test_split\n",
    "Xtrain, Xtest, ytrain, ytest = train_test_split(X,y, test_size=1/4, random_state=42)"
   ]
  },
  {
   "cell_type": "markdown",
   "id": "several-syndicate",
   "metadata": {},
   "source": [
    "## Part 2 - Building the ANN"
   ]
  },
  {
   "cell_type": "markdown",
   "id": "connected-queen",
   "metadata": {},
   "source": [
    "###  Initializing the ANN"
   ]
  },
  {
   "cell_type": "code",
   "execution_count": 45,
   "id": "going-pilot",
   "metadata": {},
   "outputs": [],
   "source": [
    "ann = tf.keras.models.Sequential()"
   ]
  },
  {
   "cell_type": "code",
   "execution_count": 46,
   "id": "strategic-rally",
   "metadata": {},
   "outputs": [
    {
     "name": "stdout",
     "output_type": "stream",
     "text": [
      "WARNING:tensorflow:From D:\\Program Files\\anaconda3\\envs\\tensorflow\\lib\\site-packages\\tensorflow\\python\\ops\\init_ops.py:1251: calling VarianceScaling.__init__ (from tensorflow.python.ops.init_ops) with dtype is deprecated and will be removed in a future version.\n",
      "Instructions for updating:\n",
      "Call initializer instance with the dtype argument instead of passing it to the constructor\n"
     ]
    }
   ],
   "source": [
    "ann.add(tf.keras.layers.Dense(units=6, activation='relu'))"
   ]
  },
  {
   "cell_type": "code",
   "execution_count": 47,
   "id": "flexible-fault",
   "metadata": {},
   "outputs": [],
   "source": [
    "ann.add(tf.keras.layers.Dense(units=6, activation='relu'))"
   ]
  },
  {
   "cell_type": "code",
   "execution_count": 48,
   "id": "urban-dubai",
   "metadata": {},
   "outputs": [],
   "source": [
    "ann.add(tf.keras.layers.Dense(units=1, activation='sigmoid'))"
   ]
  },
  {
   "cell_type": "code",
   "execution_count": 50,
   "id": "amino-table",
   "metadata": {},
   "outputs": [],
   "source": [
    "ann.compile(optimizer = 'adam', loss = 'binary_crossentropy', metrics = ['accuracy'])"
   ]
  },
  {
   "cell_type": "code",
   "execution_count": 53,
   "id": "collectible-conflict",
   "metadata": {},
   "outputs": [
    {
     "name": "stdout",
     "output_type": "stream",
     "text": [
      "Epoch 1/100\n",
      "7500/7500 [==============================] - 0s 23us/sample - loss: 0.3334 - acc: 0.8632\n",
      "Epoch 2/100\n",
      "7500/7500 [==============================] - 0s 21us/sample - loss: 0.3337 - acc: 0.8608\n",
      "Epoch 3/100\n",
      "7500/7500 [==============================] - 0s 22us/sample - loss: 0.3334 - acc: 0.8632\n",
      "Epoch 4/100\n",
      "7500/7500 [==============================] - 0s 21us/sample - loss: 0.3332 - acc: 0.8621\n",
      "Epoch 5/100\n",
      "7500/7500 [==============================] - 0s 21us/sample - loss: 0.3333 - acc: 0.8631\n",
      "Epoch 6/100\n",
      "7500/7500 [==============================] - 0s 21us/sample - loss: 0.3332 - acc: 0.8631\n",
      "Epoch 7/100\n",
      "7500/7500 [==============================] - 0s 22us/sample - loss: 0.3330 - acc: 0.8639\n",
      "Epoch 8/100\n",
      "7500/7500 [==============================] - 0s 21us/sample - loss: 0.3330 - acc: 0.8624\n",
      "Epoch 9/100\n",
      "7500/7500 [==============================] - 0s 22us/sample - loss: 0.3331 - acc: 0.8619\n",
      "Epoch 10/100\n",
      "7500/7500 [==============================] - 0s 21us/sample - loss: 0.3334 - acc: 0.8623\n",
      "Epoch 11/100\n",
      "7500/7500 [==============================] - 0s 21us/sample - loss: 0.3331 - acc: 0.8624\n",
      "Epoch 12/100\n",
      "7500/7500 [==============================] - 0s 21us/sample - loss: 0.3334 - acc: 0.8629\n",
      "Epoch 13/100\n",
      "7500/7500 [==============================] - 0s 20us/sample - loss: 0.3327 - acc: 0.8643\n",
      "Epoch 14/100\n",
      "7500/7500 [==============================] - 0s 21us/sample - loss: 0.3329 - acc: 0.8639\n",
      "Epoch 15/100\n",
      "7500/7500 [==============================] - 0s 22us/sample - loss: 0.3327 - acc: 0.8633\n",
      "Epoch 16/100\n",
      "7500/7500 [==============================] - 0s 25us/sample - loss: 0.3327 - acc: 0.8640\n",
      "Epoch 17/100\n",
      "7500/7500 [==============================] - 0s 26us/sample - loss: 0.3328 - acc: 0.8635\n",
      "Epoch 18/100\n",
      "7500/7500 [==============================] - 0s 25us/sample - loss: 0.3328 - acc: 0.8628\n",
      "Epoch 19/100\n",
      "7500/7500 [==============================] - 0s 25us/sample - loss: 0.3328 - acc: 0.8637\n",
      "Epoch 20/100\n",
      "7500/7500 [==============================] - 0s 27us/sample - loss: 0.3326 - acc: 0.8625\n",
      "Epoch 21/100\n",
      "7500/7500 [==============================] - 0s 27us/sample - loss: 0.3327 - acc: 0.8617\n",
      "Epoch 22/100\n",
      "7500/7500 [==============================] - 0s 25us/sample - loss: 0.3323 - acc: 0.8633\n",
      "Epoch 23/100\n",
      "7500/7500 [==============================] - 0s 26us/sample - loss: 0.3325 - acc: 0.8633\n",
      "Epoch 24/100\n",
      "7500/7500 [==============================] - 0s 26us/sample - loss: 0.3325 - acc: 0.8633\n",
      "Epoch 25/100\n",
      "7500/7500 [==============================] - 0s 25us/sample - loss: 0.3324 - acc: 0.8637\n",
      "Epoch 26/100\n",
      "7500/7500 [==============================] - 0s 27us/sample - loss: 0.3327 - acc: 0.8640\n",
      "Epoch 27/100\n",
      "7500/7500 [==============================] - 0s 26us/sample - loss: 0.3321 - acc: 0.8641\n",
      "Epoch 28/100\n",
      "7500/7500 [==============================] - 0s 24us/sample - loss: 0.3324 - acc: 0.8641\n",
      "Epoch 29/100\n",
      "7500/7500 [==============================] - 0s 25us/sample - loss: 0.3324 - acc: 0.8643\n",
      "Epoch 30/100\n",
      "7500/7500 [==============================] - 0s 25us/sample - loss: 0.3323 - acc: 0.8641\n",
      "Epoch 31/100\n",
      "7500/7500 [==============================] - 0s 28us/sample - loss: 0.3322 - acc: 0.8636\n",
      "Epoch 32/100\n",
      "7500/7500 [==============================] - 0s 26us/sample - loss: 0.3322 - acc: 0.8639\n",
      "Epoch 33/100\n",
      "7500/7500 [==============================] - 0s 25us/sample - loss: 0.3322 - acc: 0.8632\n",
      "Epoch 34/100\n",
      "7500/7500 [==============================] - 0s 24us/sample - loss: 0.3325 - acc: 0.8645\n",
      "Epoch 35/100\n",
      "7500/7500 [==============================] - 0s 25us/sample - loss: 0.3322 - acc: 0.8649\n",
      "Epoch 36/100\n",
      "7500/7500 [==============================] - 0s 27us/sample - loss: 0.3321 - acc: 0.8651\n",
      "Epoch 37/100\n",
      "7500/7500 [==============================] - ETA: 0s - loss: 0.3337 - acc: 0.863 - 0s 25us/sample - loss: 0.3322 - acc: 0.8648\n",
      "Epoch 38/100\n",
      "7500/7500 [==============================] - 0s 25us/sample - loss: 0.3322 - acc: 0.8637\n",
      "Epoch 39/100\n",
      "7500/7500 [==============================] - 0s 25us/sample - loss: 0.3322 - acc: 0.8635\n",
      "Epoch 40/100\n",
      "7500/7500 [==============================] - 0s 26us/sample - loss: 0.3319 - acc: 0.8635\n",
      "Epoch 41/100\n",
      "7500/7500 [==============================] - 0s 25us/sample - loss: 0.3319 - acc: 0.8637\n",
      "Epoch 42/100\n",
      "7500/7500 [==============================] - 0s 25us/sample - loss: 0.3322 - acc: 0.8639\n",
      "Epoch 43/100\n",
      "7500/7500 [==============================] - 0s 26us/sample - loss: 0.3321 - acc: 0.8648\n",
      "Epoch 44/100\n",
      "7500/7500 [==============================] - 0s 26us/sample - loss: 0.3321 - acc: 0.8636\n",
      "Epoch 45/100\n",
      "7500/7500 [==============================] - 0s 24us/sample - loss: 0.3322 - acc: 0.8639\n",
      "Epoch 46/100\n",
      "7500/7500 [==============================] - 0s 26us/sample - loss: 0.3324 - acc: 0.8644\n",
      "Epoch 47/100\n",
      "7500/7500 [==============================] - 0s 27us/sample - loss: 0.3318 - acc: 0.8640\n",
      "Epoch 48/100\n",
      "7500/7500 [==============================] - 0s 25us/sample - loss: 0.3322 - acc: 0.8633\n",
      "Epoch 49/100\n",
      "7500/7500 [==============================] - 0s 26us/sample - loss: 0.3320 - acc: 0.8641\n",
      "Epoch 50/100\n",
      "7500/7500 [==============================] - 0s 26us/sample - loss: 0.3321 - acc: 0.8644\n",
      "Epoch 51/100\n",
      "7500/7500 [==============================] - 0s 26us/sample - loss: 0.3317 - acc: 0.8652\n",
      "Epoch 52/100\n",
      "7500/7500 [==============================] - 0s 25us/sample - loss: 0.3320 - acc: 0.8643\n",
      "Epoch 53/100\n",
      "7500/7500 [==============================] - 0s 25us/sample - loss: 0.3320 - acc: 0.8636\n",
      "Epoch 54/100\n",
      "7500/7500 [==============================] - 0s 25us/sample - loss: 0.3320 - acc: 0.8641\n",
      "Epoch 55/100\n",
      "7500/7500 [==============================] - 0s 25us/sample - loss: 0.3323 - acc: 0.8636\n",
      "Epoch 56/100\n",
      "7500/7500 [==============================] - 0s 24us/sample - loss: 0.3321 - acc: 0.8645\n",
      "Epoch 57/100\n",
      "7500/7500 [==============================] - 0s 26us/sample - loss: 0.3317 - acc: 0.8640\n",
      "Epoch 58/100\n",
      "7500/7500 [==============================] - 0s 24us/sample - loss: 0.3322 - acc: 0.8653\n",
      "Epoch 59/100\n",
      "7500/7500 [==============================] - 0s 25us/sample - loss: 0.3317 - acc: 0.8639\n",
      "Epoch 60/100\n",
      "7500/7500 [==============================] - 0s 25us/sample - loss: 0.3316 - acc: 0.8644\n",
      "Epoch 61/100\n",
      "7500/7500 [==============================] - 0s 24us/sample - loss: 0.3317 - acc: 0.8643\n",
      "Epoch 62/100\n",
      "7500/7500 [==============================] - 0s 30us/sample - loss: 0.3318 - acc: 0.8649\n",
      "Epoch 63/100\n",
      "7500/7500 [==============================] - 0s 29us/sample - loss: 0.3315 - acc: 0.8640\n",
      "Epoch 64/100\n",
      "7500/7500 [==============================] - 0s 28us/sample - loss: 0.3319 - acc: 0.8641\n",
      "Epoch 65/100\n",
      "7500/7500 [==============================] - 0s 25us/sample - loss: 0.3319 - acc: 0.8645\n",
      "Epoch 66/100\n",
      "7500/7500 [==============================] - 0s 22us/sample - loss: 0.3316 - acc: 0.8643\n",
      "Epoch 67/100\n",
      "7500/7500 [==============================] - 0s 24us/sample - loss: 0.3314 - acc: 0.8651\n",
      "Epoch 68/100\n",
      "7500/7500 [==============================] - 0s 21us/sample - loss: 0.3317 - acc: 0.8659\n",
      "Epoch 69/100\n",
      "7500/7500 [==============================] - 0s 23us/sample - loss: 0.3319 - acc: 0.8643\n",
      "Epoch 70/100\n",
      "7500/7500 [==============================] - 0s 25us/sample - loss: 0.3317 - acc: 0.8639\n",
      "Epoch 71/100\n",
      "7500/7500 [==============================] - 0s 22us/sample - loss: 0.3312 - acc: 0.8659\n",
      "Epoch 72/100\n",
      "7500/7500 [==============================] - 0s 21us/sample - loss: 0.3321 - acc: 0.8641\n",
      "Epoch 73/100\n",
      "7500/7500 [==============================] - 0s 22us/sample - loss: 0.3317 - acc: 0.8645\n",
      "Epoch 74/100\n",
      "7500/7500 [==============================] - 0s 21us/sample - loss: 0.3314 - acc: 0.8652\n",
      "Epoch 75/100\n",
      "7500/7500 [==============================] - 0s 20us/sample - loss: 0.3314 - acc: 0.8636\n",
      "Epoch 76/100\n",
      "7500/7500 [==============================] - 0s 21us/sample - loss: 0.3315 - acc: 0.8633\n",
      "Epoch 77/100\n",
      "7500/7500 [==============================] - 0s 20us/sample - loss: 0.3320 - acc: 0.8636\n",
      "Epoch 78/100\n",
      "7500/7500 [==============================] - 0s 21us/sample - loss: 0.3316 - acc: 0.8644\n",
      "Epoch 79/100\n",
      "7500/7500 [==============================] - 0s 22us/sample - loss: 0.3315 - acc: 0.8645\n",
      "Epoch 80/100\n",
      "7500/7500 [==============================] - 0s 21us/sample - loss: 0.3315 - acc: 0.8648\n",
      "Epoch 81/100\n"
     ]
    },
    {
     "name": "stdout",
     "output_type": "stream",
     "text": [
      "7500/7500 [==============================] - 0s 20us/sample - loss: 0.3313 - acc: 0.8651\n",
      "Epoch 82/100\n",
      "7500/7500 [==============================] - 0s 20us/sample - loss: 0.3316 - acc: 0.8637\n",
      "Epoch 83/100\n",
      "7500/7500 [==============================] - 0s 20us/sample - loss: 0.3316 - acc: 0.8641\n",
      "Epoch 84/100\n",
      "7500/7500 [==============================] - 0s 21us/sample - loss: 0.3313 - acc: 0.8640\n",
      "Epoch 85/100\n",
      "7500/7500 [==============================] - 0s 23us/sample - loss: 0.3313 - acc: 0.8640\n",
      "Epoch 86/100\n",
      "7500/7500 [==============================] - 0s 21us/sample - loss: 0.3314 - acc: 0.8644\n",
      "Epoch 87/100\n",
      "7500/7500 [==============================] - 0s 21us/sample - loss: 0.3311 - acc: 0.8647\n",
      "Epoch 88/100\n",
      "7500/7500 [==============================] - 0s 23us/sample - loss: 0.3316 - acc: 0.8640\n",
      "Epoch 89/100\n",
      "7500/7500 [==============================] - 0s 23us/sample - loss: 0.3313 - acc: 0.8644\n",
      "Epoch 90/100\n",
      "7500/7500 [==============================] - 0s 23us/sample - loss: 0.3312 - acc: 0.8647\n",
      "Epoch 91/100\n",
      "7500/7500 [==============================] - 0s 25us/sample - loss: 0.3311 - acc: 0.8651\n",
      "Epoch 92/100\n",
      "7500/7500 [==============================] - 0s 23us/sample - loss: 0.3312 - acc: 0.8641\n",
      "Epoch 93/100\n",
      "7500/7500 [==============================] - 0s 22us/sample - loss: 0.3311 - acc: 0.8659\n",
      "Epoch 94/100\n",
      "7500/7500 [==============================] - 0s 21us/sample - loss: 0.3311 - acc: 0.8653\n",
      "Epoch 95/100\n",
      "7500/7500 [==============================] - 0s 21us/sample - loss: 0.3311 - acc: 0.8647\n",
      "Epoch 96/100\n",
      "7500/7500 [==============================] - 0s 20us/sample - loss: 0.3314 - acc: 0.8648\n",
      "Epoch 97/100\n",
      "7500/7500 [==============================] - 0s 21us/sample - loss: 0.3312 - acc: 0.8641\n",
      "Epoch 98/100\n",
      "7500/7500 [==============================] - 0s 23us/sample - loss: 0.3314 - acc: 0.8644\n",
      "Epoch 99/100\n",
      "7500/7500 [==============================] - 0s 23us/sample - loss: 0.3314 - acc: 0.8647\n",
      "Epoch 100/100\n",
      "7500/7500 [==============================] - 0s 21us/sample - loss: 0.3307 - acc: 0.8645\n"
     ]
    },
    {
     "data": {
      "text/plain": [
       "<tensorflow.python.keras.callbacks.History at 0x1eaf7adcfc8>"
      ]
     },
     "execution_count": 53,
     "metadata": {},
     "output_type": "execute_result"
    }
   ],
   "source": [
    "ann.fit(Xtrain, ytrain, batch_size = 32, epochs = 100)"
   ]
  },
  {
   "cell_type": "code",
   "execution_count": 56,
   "id": "incorporated-weight",
   "metadata": {},
   "outputs": [
    {
     "name": "stdout",
     "output_type": "stream",
     "text": [
      "[[0 0]\n",
      " [0 0]\n",
      " [0 0]\n",
      " ...\n",
      " [0 0]\n",
      " [0 0]\n",
      " [0 0]]\n"
     ]
    }
   ],
   "source": [
    "ypred = ann.predict(Xtest)\n",
    "ypred = (ypred > 0.5)\n",
    "print(np.concatenate((ypred.reshape(len(ypred),1), ytest.reshape(len(ytest),1)),1))"
   ]
  },
  {
   "cell_type": "code",
   "execution_count": 58,
   "id": "hollow-resolution",
   "metadata": {},
   "outputs": [
    {
     "name": "stdout",
     "output_type": "stream",
     "text": [
      "[[1922   81]\n",
      " [ 259  238]]\n"
     ]
    }
   ],
   "source": [
    "from sklearn.metrics import confusion_matrix\n",
    "cm = confusion_matrix(ytest, ypred)\n",
    "print(cm)"
   ]
  },
  {
   "cell_type": "markdown",
   "id": "atmospheric-science",
   "metadata": {},
   "source": [
    "### Importing the Keras libraries and packages"
   ]
  },
  {
   "cell_type": "code",
   "execution_count": 17,
   "id": "polish-dressing",
   "metadata": {},
   "outputs": [
    {
     "name": "stderr",
     "output_type": "stream",
     "text": [
      "Using TensorFlow backend.\n"
     ]
    }
   ],
   "source": [
    "import keras\n",
    "from keras.models import Sequential\n",
    "from keras.layers import Dense"
   ]
  },
  {
   "cell_type": "markdown",
   "id": "junior-reward",
   "metadata": {},
   "source": [
    "###  Initializing the ANN"
   ]
  },
  {
   "cell_type": "code",
   "execution_count": 19,
   "id": "curious-cleaning",
   "metadata": {},
   "outputs": [],
   "source": [
    "classifier = Sequential()"
   ]
  },
  {
   "cell_type": "markdown",
   "id": "differential-schedule",
   "metadata": {},
   "source": [
    "###  Adding the input layer and the first hidden layer"
   ]
  },
  {
   "cell_type": "code",
   "execution_count": 20,
   "id": "found-curtis",
   "metadata": {},
   "outputs": [
    {
     "name": "stderr",
     "output_type": "stream",
     "text": [
      "D:\\Program Files\\anaconda3\\envs\\tensorflow\\lib\\site-packages\\ipykernel_launcher.py:1: UserWarning: Update your `Dense` call to the Keras 2 API: `Dense(activation=\"relu\", input_dim=11, units=6, kernel_initializer=\"uniform\")`\n",
      "  \"\"\"Entry point for launching an IPython kernel.\n",
      "D:\\Program Files\\anaconda3\\envs\\tensorflow\\lib\\site-packages\\ipykernel_launcher.py:2: UserWarning: Update your `Dense` call to the Keras 2 API: `Dense(activation=\"relu\", units=6, kernel_initializer=\"uniform\")`\n",
      "  \n"
     ]
    }
   ],
   "source": [
    "classifier.add(Dense(output_dim=6, init='uniform', activation='relu', input_dim=11))\n",
    "classifier.add(Dense(output_dim=6, init='uniform', activation='relu'))"
   ]
  },
  {
   "cell_type": "markdown",
   "id": "inside-plaintiff",
   "metadata": {},
   "source": [
    "###  Adding the ouput layer"
   ]
  },
  {
   "cell_type": "code",
   "execution_count": 21,
   "id": "traditional-property",
   "metadata": {},
   "outputs": [
    {
     "name": "stderr",
     "output_type": "stream",
     "text": [
      "D:\\Program Files\\anaconda3\\envs\\tensorflow\\lib\\site-packages\\ipykernel_launcher.py:1: UserWarning: Update your `Dense` call to the Keras 2 API: `Dense(activation=\"sigmoid\", units=1, kernel_initializer=\"uniform\")`\n",
      "  \"\"\"Entry point for launching an IPython kernel.\n"
     ]
    }
   ],
   "source": [
    "classifier.add(Dense(output_dim=1, init='uniform', activation='sigmoid'))"
   ]
  },
  {
   "cell_type": "markdown",
   "id": "tutorial-button",
   "metadata": {},
   "source": [
    "### Compiling the ANN"
   ]
  },
  {
   "cell_type": "code",
   "execution_count": 22,
   "id": "greatest-tutorial",
   "metadata": {},
   "outputs": [
    {
     "name": "stdout",
     "output_type": "stream",
     "text": [
      "WARNING:tensorflow:From D:\\Program Files\\anaconda3\\envs\\tensorflow\\lib\\site-packages\\tensorflow\\python\\ops\\nn_impl.py:180: add_dispatch_support.<locals>.wrapper (from tensorflow.python.ops.array_ops) is deprecated and will be removed in a future version.\n",
      "Instructions for updating:\n",
      "Use tf.where in 2.0, which has the same broadcast rule as np.where\n"
     ]
    }
   ],
   "source": [
    "classifier.compile(optimizer=\"adam\", loss='binary_crossentropy', metrics = ['accuracy'])"
   ]
  },
  {
   "cell_type": "markdown",
   "id": "comprehensive-photography",
   "metadata": {},
   "source": [
    "### Fitting the ANN to the Training set"
   ]
  },
  {
   "cell_type": "code",
   "execution_count": 23,
   "id": "stopped-count",
   "metadata": {},
   "outputs": [
    {
     "name": "stderr",
     "output_type": "stream",
     "text": [
      "D:\\Program Files\\anaconda3\\envs\\tensorflow\\lib\\site-packages\\ipykernel_launcher.py:1: UserWarning: The `nb_epoch` argument in `fit` has been renamed `epochs`.\n",
      "  \"\"\"Entry point for launching an IPython kernel.\n"
     ]
    },
    {
     "name": "stdout",
     "output_type": "stream",
     "text": [
      "WARNING:tensorflow:From D:\\Program Files\\anaconda3\\envs\\tensorflow\\lib\\site-packages\\keras\\backend\\tensorflow_backend.py:422: The name tf.global_variables is deprecated. Please use tf.compat.v1.global_variables instead.\n",
      "\n",
      "Epoch 1/100\n",
      "7500/7500 [==============================] - 2s 216us/step - loss: 0.4902 - accuracy: 0.7943\n",
      "Epoch 2/100\n",
      "7500/7500 [==============================] - 3s 417us/step - loss: 0.4325 - accuracy: 0.7947\n",
      "Epoch 3/100\n",
      "7500/7500 [==============================] - 3s 413us/step - loss: 0.4255 - accuracy: 0.8012\n",
      "Epoch 4/100\n",
      "7500/7500 [==============================] - 3s 417us/step - loss: 0.4175 - accuracy: 0.8288\n",
      "Epoch 5/100\n",
      "7500/7500 [==============================] - 3s 390us/step - loss: 0.4122 - accuracy: 0.8321\n",
      "Epoch 6/100\n",
      "7500/7500 [==============================] - 2s 315us/step - loss: 0.4082 - accuracy: 0.8323\n",
      "Epoch 7/100\n",
      "7500/7500 [==============================] - 1s 133us/step - loss: 0.4063 - accuracy: 0.8335\n",
      "Epoch 8/100\n",
      "7500/7500 [==============================] - 3s 374us/step - loss: 0.4048 - accuracy: 0.8340\n",
      "Epoch 9/100\n",
      "7500/7500 [==============================] - 3s 391us/step - loss: 0.4035 - accuracy: 0.8331\n",
      "Epoch 10/100\n",
      "7500/7500 [==============================] - 3s 423us/step - loss: 0.4024 - accuracy: 0.8332\n",
      "Epoch 11/100\n",
      "7500/7500 [==============================] - 2s 240us/step - loss: 0.4018 - accuracy: 0.8336\n",
      "Epoch 12/100\n",
      "7500/7500 [==============================] - 2s 293us/step - loss: 0.4010 - accuracy: 0.8351\n",
      "Epoch 13/100\n",
      "7500/7500 [==============================] - 2s 256us/step - loss: 0.4008 - accuracy: 0.8336\n",
      "Epoch 14/100\n",
      "7500/7500 [==============================] - 1s 163us/step - loss: 0.4000 - accuracy: 0.8343\n",
      "Epoch 15/100\n",
      "7500/7500 [==============================] - 2s 306us/step - loss: 0.3995 - accuracy: 0.8348\n",
      "Epoch 16/100\n",
      "7500/7500 [==============================] - 2s 332us/step - loss: 0.3991 - accuracy: 0.8360\n",
      "Epoch 17/100\n",
      "7500/7500 [==============================] - 3s 337us/step - loss: 0.3992 - accuracy: 0.8335\n",
      "Epoch 18/100\n",
      "7500/7500 [==============================] - 2s 291us/step - loss: 0.3983 - accuracy: 0.8353\n",
      "Epoch 19/100\n",
      "7500/7500 [==============================] - 2s 257us/step - loss: 0.3986 - accuracy: 0.8360\n",
      "Epoch 20/100\n",
      "7500/7500 [==============================] - 2s 325us/step - loss: 0.3978 - accuracy: 0.8348\n",
      "Epoch 21/100\n",
      "7500/7500 [==============================] - 2s 251us/step - loss: 0.3978 - accuracy: 0.8349\n",
      "Epoch 22/100\n",
      "7500/7500 [==============================] - 2s 235us/step - loss: 0.3969 - accuracy: 0.8367\n",
      "Epoch 23/100\n",
      "7500/7500 [==============================] - 2s 219us/step - loss: 0.3965 - accuracy: 0.8356\n",
      "Epoch 24/100\n",
      "7500/7500 [==============================] - 2s 238us/step - loss: 0.3970 - accuracy: 0.8355\n",
      "Epoch 25/100\n",
      "7500/7500 [==============================] - 3s 368us/step - loss: 0.3967 - accuracy: 0.8361\n",
      "Epoch 26/100\n",
      "7500/7500 [==============================] - 2s 303us/step - loss: 0.3960 - accuracy: 0.8363\n",
      "Epoch 27/100\n",
      "7500/7500 [==============================] - 2s 266us/step - loss: 0.3960 - accuracy: 0.8355\n",
      "Epoch 28/100\n",
      "7500/7500 [==============================] - 3s 345us/step - loss: 0.3954 - accuracy: 0.8353\n",
      "Epoch 29/100\n",
      "7500/7500 [==============================] - 1s 196us/step - loss: 0.3956 - accuracy: 0.8364\n",
      "Epoch 30/100\n",
      "7500/7500 [==============================] - 2s 235us/step - loss: 0.3953 - accuracy: 0.8364\n",
      "Epoch 31/100\n",
      "7500/7500 [==============================] - 1s 169us/step - loss: 0.3949 - accuracy: 0.8359\n",
      "Epoch 32/100\n",
      "7500/7500 [==============================] - 2s 205us/step - loss: 0.3941 - accuracy: 0.8375\n",
      "Epoch 33/100\n",
      "7500/7500 [==============================] - 2s 315us/step - loss: 0.3941 - accuracy: 0.8371\n",
      "Epoch 34/100\n",
      "7500/7500 [==============================] - 2s 327us/step - loss: 0.3941 - accuracy: 0.8369\n",
      "Epoch 35/100\n",
      "7500/7500 [==============================] - 2s 219us/step - loss: 0.3935 - accuracy: 0.8376\n",
      "Epoch 36/100\n",
      "7500/7500 [==============================] - 2s 264us/step - loss: 0.3932 - accuracy: 0.8380\n",
      "Epoch 37/100\n",
      "7500/7500 [==============================] - 2s 318us/step - loss: 0.3926 - accuracy: 0.8381\n",
      "Epoch 38/100\n",
      "7500/7500 [==============================] - 1s 183us/step - loss: 0.3928 - accuracy: 0.8372\n",
      "Epoch 39/100\n",
      "7500/7500 [==============================] - 2s 324us/step - loss: 0.3919 - accuracy: 0.8396\n",
      "Epoch 40/100\n",
      "7500/7500 [==============================] - 2s 219us/step - loss: 0.3911 - accuracy: 0.8409\n",
      "Epoch 41/100\n",
      "7500/7500 [==============================] - 2s 221us/step - loss: 0.3908 - accuracy: 0.8408\n",
      "Epoch 42/100\n",
      "7500/7500 [==============================] - 2s 214us/step - loss: 0.3899 - accuracy: 0.8416\n",
      "Epoch 43/100\n",
      "7500/7500 [==============================] - 2s 216us/step - loss: 0.3879 - accuracy: 0.8404\n",
      "Epoch 44/100\n",
      "7500/7500 [==============================] - 3s 344us/step - loss: 0.3883 - accuracy: 0.8416\n",
      "Epoch 45/100\n",
      "7500/7500 [==============================] - 2s 324us/step - loss: 0.3873 - accuracy: 0.8428\n",
      "Epoch 46/100\n",
      "7500/7500 [==============================] - 1s 135us/step - loss: 0.3859 - accuracy: 0.8417\n",
      "Epoch 47/100\n",
      "7500/7500 [==============================] - 2s 246us/step - loss: 0.3844 - accuracy: 0.8404\n",
      "Epoch 48/100\n",
      "7500/7500 [==============================] - 2s 220us/step - loss: 0.3822 - accuracy: 0.8381\n",
      "Epoch 49/100\n",
      "7500/7500 [==============================] - 2s 219us/step - loss: 0.3802 - accuracy: 0.8368\n",
      "Epoch 50/100\n",
      "7500/7500 [==============================] - 2s 218us/step - loss: 0.3768 - accuracy: 0.8368\n",
      "Epoch 51/100\n",
      "7500/7500 [==============================] - 2s 224us/step - loss: 0.3712 - accuracy: 0.8409\n",
      "Epoch 52/100\n",
      "7500/7500 [==============================] - 2s 327us/step - loss: 0.3663 - accuracy: 0.8455\n",
      "Epoch 53/100\n",
      "7500/7500 [==============================] - 2s 254us/step - loss: 0.3629 - accuracy: 0.8521\n",
      "Epoch 54/100\n",
      "7500/7500 [==============================] - 2s 256us/step - loss: 0.3599 - accuracy: 0.8517\n",
      "Epoch 55/100\n",
      "7500/7500 [==============================] - 1s 146us/step - loss: 0.3584 - accuracy: 0.8557\n",
      "Epoch 56/100\n",
      "7500/7500 [==============================] - 3s 375us/step - loss: 0.3563 - accuracy: 0.8571\n",
      "Epoch 57/100\n",
      "7500/7500 [==============================] - 3s 336us/step - loss: 0.3559 - accuracy: 0.8579\n",
      "Epoch 58/100\n",
      "7500/7500 [==============================] - 2s 219us/step - loss: 0.3541 - accuracy: 0.8597\n",
      "Epoch 59/100\n",
      "7500/7500 [==============================] - 2s 239us/step - loss: 0.3533 - accuracy: 0.8597\n",
      "Epoch 60/100\n",
      "7500/7500 [==============================] - 2s 224us/step - loss: 0.3525 - accuracy: 0.8620\n",
      "Epoch 61/100\n",
      "7500/7500 [==============================] - 2s 270us/step - loss: 0.3508 - accuracy: 0.8607\n",
      "Epoch 62/100\n",
      "7500/7500 [==============================] - 3s 342us/step - loss: 0.3510 - accuracy: 0.8591\n",
      "Epoch 63/100\n",
      "7500/7500 [==============================] - 1s 134us/step - loss: 0.3499 - accuracy: 0.8595\n",
      "Epoch 64/100\n",
      "7500/7500 [==============================] - 2s 290us/step - loss: 0.3498 - accuracy: 0.8627\n",
      "Epoch 65/100\n",
      "7500/7500 [==============================] - 2s 218us/step - loss: 0.3483 - accuracy: 0.8612\n",
      "Epoch 66/100\n",
      "7500/7500 [==============================] - 3s 364us/step - loss: 0.3486 - accuracy: 0.8605\n",
      "Epoch 67/100\n",
      "7500/7500 [==============================] - 3s 335us/step - loss: 0.3475 - accuracy: 0.8612\n",
      "Epoch 68/100\n",
      "7500/7500 [==============================] - 2s 219us/step - loss: 0.3473 - accuracy: 0.8600\n",
      "Epoch 69/100\n",
      "7500/7500 [==============================] - 2s 306us/step - loss: 0.3473 - accuracy: 0.8615\n",
      "Epoch 70/100\n",
      "7500/7500 [==============================] - 2s 250us/step - loss: 0.3467 - accuracy: 0.8620\n",
      "Epoch 71/100\n",
      "7500/7500 [==============================] - 1s 137us/step - loss: 0.3466 - accuracy: 0.8625\n",
      "Epoch 72/100\n",
      "7500/7500 [==============================] - 2s 230us/step - loss: 0.3467 - accuracy: 0.8612\n",
      "Epoch 73/100\n",
      "7500/7500 [==============================] - 2s 265us/step - loss: 0.3453 - accuracy: 0.8623\n",
      "Epoch 74/100\n",
      "7500/7500 [==============================] - 2s 303us/step - loss: 0.3453 - accuracy: 0.8613\n",
      "Epoch 75/100\n",
      "7500/7500 [==============================] - 2s 320us/step - loss: 0.3453 - accuracy: 0.8612\n",
      "Epoch 76/100\n",
      "7500/7500 [==============================] - 3s 344us/step - loss: 0.3448 - accuracy: 0.8600\n",
      "Epoch 77/100\n",
      "7500/7500 [==============================] - 3s 346us/step - loss: 0.3447 - accuracy: 0.8620\n",
      "Epoch 78/100\n",
      "7500/7500 [==============================] - 2s 304us/step - loss: 0.3447 - accuracy: 0.8620\n",
      "Epoch 79/100\n",
      "7500/7500 [==============================] - 2s 263us/step - loss: 0.3439 - accuracy: 0.8604\n",
      "Epoch 80/100\n",
      "7500/7500 [==============================] - 3s 349us/step - loss: 0.3443 - accuracy: 0.8617\n",
      "Epoch 81/100\n",
      "7500/7500 [==============================] - 3s 377us/step - loss: 0.3436 - accuracy: 0.8609\n",
      "Epoch 82/100\n",
      "7500/7500 [==============================] - 2s 301us/step - loss: 0.3445 - accuracy: 0.8613\n",
      "Epoch 83/100\n",
      "7500/7500 [==============================] - 2s 290us/step - loss: 0.3433 - accuracy: 0.8604\n",
      "Epoch 84/100\n",
      "7500/7500 [==============================] - 2s 295us/step - loss: 0.3430 - accuracy: 0.8631\n",
      "Epoch 85/100\n",
      "7500/7500 [==============================] - 1s 162us/step - loss: 0.3436 - accuracy: 0.8609\n",
      "Epoch 86/100\n",
      "7500/7500 [==============================] - 2s 252us/step - loss: 0.3432 - accuracy: 0.8617\n",
      "Epoch 87/100\n",
      "7500/7500 [==============================] - 3s 379us/step - loss: 0.3426 - accuracy: 0.8643\n",
      "Epoch 88/100\n",
      "7500/7500 [==============================] - 3s 390us/step - loss: 0.3435 - accuracy: 0.8597\n",
      "Epoch 89/100\n",
      "7500/7500 [==============================] - 3s 372us/step - loss: 0.3427 - accuracy: 0.8609\n",
      "Epoch 90/100\n",
      "7500/7500 [==============================] - 3s 382us/step - loss: 0.3428 - accuracy: 0.8607\n",
      "Epoch 91/100\n",
      "7500/7500 [==============================] - 3s 341us/step - loss: 0.3427 - accuracy: 0.8619\n",
      "Epoch 92/100\n",
      "7500/7500 [==============================] - 2s 261us/step - loss: 0.3429 - accuracy: 0.8599\n",
      "Epoch 93/100\n",
      "7500/7500 [==============================] - 3s 390us/step - loss: 0.3430 - accuracy: 0.8611\n",
      "Epoch 94/100\n",
      "7500/7500 [==============================] - 3s 379us/step - loss: 0.3417 - accuracy: 0.8601\n",
      "Epoch 95/100\n",
      "7500/7500 [==============================] - 3s 412us/step - loss: 0.3423 - accuracy: 0.8585\n",
      "Epoch 96/100\n",
      "7500/7500 [==============================] - 3s 369us/step - loss: 0.3423 - accuracy: 0.8613\n",
      "Epoch 97/100\n",
      "7500/7500 [==============================] - 3s 345us/step - loss: 0.3419 - accuracy: 0.8613\n",
      "Epoch 98/100\n",
      "7500/7500 [==============================] - 2s 317us/step - loss: 0.3418 - accuracy: 0.8599\n",
      "Epoch 99/100\n",
      "7500/7500 [==============================] - 3s 373us/step - loss: 0.3420 - accuracy: 0.8615\n",
      "Epoch 100/100\n",
      "7500/7500 [==============================] - 3s 394us/step - loss: 0.3415 - accuracy: 0.8619\n"
     ]
    },
    {
     "data": {
      "text/plain": [
       "<keras.callbacks.callbacks.History at 0x1eaf148a4c8>"
      ]
     },
     "execution_count": 23,
     "metadata": {},
     "output_type": "execute_result"
    }
   ],
   "source": [
    "classifier.fit(Xtrain, ytrain, batch_size=10, nb_epoch = 100)"
   ]
  },
  {
   "cell_type": "markdown",
   "id": "daily-academy",
   "metadata": {},
   "source": [
    "### Predicting the test results"
   ]
  },
  {
   "cell_type": "code",
   "execution_count": 24,
   "id": "streaming-poison",
   "metadata": {},
   "outputs": [
    {
     "name": "stdout",
     "output_type": "stream",
     "text": [
      "[[0.02713695]\n",
      " [0.02194929]\n",
      " [0.15064013]\n",
      " ...\n",
      " [0.00179288]\n",
      " [0.14323308]\n",
      " [0.06427712]]\n"
     ]
    }
   ],
   "source": [
    "ypred = classifier.predict(Xtest)\n",
    "print(ypred)"
   ]
  },
  {
   "cell_type": "code",
   "execution_count": 25,
   "id": "atlantic-relationship",
   "metadata": {},
   "outputs": [],
   "source": [
    "ypred = (ypred > 0.5)"
   ]
  },
  {
   "cell_type": "markdown",
   "id": "aggressive-version",
   "metadata": {},
   "source": [
    "### Making the Confusion Matrix"
   ]
  },
  {
   "cell_type": "code",
   "execution_count": 29,
   "id": "viral-faith",
   "metadata": {},
   "outputs": [
    {
     "name": "stdout",
     "output_type": "stream",
     "text": [
      "[[1937   66]\n",
      " [ 274  223]]\n"
     ]
    }
   ],
   "source": [
    "from sklearn.metrics import confusion_matrix\n",
    "cm = confusion_matrix(ytest,ypred)\n",
    "print(cm)"
   ]
  },
  {
   "cell_type": "code",
   "execution_count": null,
   "id": "vital-shakespeare",
   "metadata": {},
   "outputs": [],
   "source": []
  }
 ],
 "metadata": {
  "kernelspec": {
   "display_name": "Python 3",
   "language": "python",
   "name": "python3"
  },
  "language_info": {
   "codemirror_mode": {
    "name": "ipython",
    "version": 3
   },
   "file_extension": ".py",
   "mimetype": "text/x-python",
   "name": "python",
   "nbconvert_exporter": "python",
   "pygments_lexer": "ipython3",
   "version": "3.7.10"
  }
 },
 "nbformat": 4,
 "nbformat_minor": 5
}
